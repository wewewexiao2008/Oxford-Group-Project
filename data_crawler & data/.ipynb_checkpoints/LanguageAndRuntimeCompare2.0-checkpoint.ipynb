{
 "cells": [
  {
   "cell_type": "markdown",
   "metadata": {},
   "source": [
    "# Descriptive 1-2"
   ]
  },
  {
   "cell_type": "markdown",
   "metadata": {},
   "source": [
    "In the following section, we'll compare the language and the runtime of the top 250 movies on douban and imdb respectively."
   ]
  },
  {
   "cell_type": "markdown",
   "metadata": {},
   "source": [
    "## Languages"
   ]
  },
  {
   "cell_type": "markdown",
   "metadata": {},
   "source": [
    "First, we'll have a look at what languages are most common among the top 250 movies on each website."
   ]
  },
  {
   "cell_type": "code",
   "execution_count": 1,
   "metadata": {},
   "outputs": [],
   "source": [
    "import pandas as pd\n",
    "import csv\n",
    "from os import sep\n",
    "\n",
    "douban_df = pd.read_csv(\"douban_movie_all.csv\")\n",
    "imdb_df = pd.read_csv(f\"imdb_movie_all.csv\")"
   ]
  },
  {
   "cell_type": "code",
   "execution_count": 2,
   "metadata": {},
   "outputs": [],
   "source": [
    "douban_df.columns = ['Name', 'Year', 'Rate', 'Directors', 'Writers', 'Stars', 'Genres', 'Country', 'Language', 'Runtime']"
   ]
  },
  {
   "cell_type": "code",
   "execution_count": 3,
   "metadata": {},
   "outputs": [
    {
     "data": {
      "text/html": [
       "<div>\n",
       "<style scoped>\n",
       "    .dataframe tbody tr th:only-of-type {\n",
       "        vertical-align: middle;\n",
       "    }\n",
       "\n",
       "    .dataframe tbody tr th {\n",
       "        vertical-align: top;\n",
       "    }\n",
       "\n",
       "    .dataframe thead th {\n",
       "        text-align: right;\n",
       "    }\n",
       "</style>\n",
       "<table border=\"1\" class=\"dataframe\">\n",
       "  <thead>\n",
       "    <tr style=\"text-align: right;\">\n",
       "      <th></th>\n",
       "      <th>Name</th>\n",
       "      <th>Year</th>\n",
       "      <th>Rate</th>\n",
       "      <th>Directors</th>\n",
       "      <th>Writers</th>\n",
       "      <th>Stars</th>\n",
       "      <th>Genres</th>\n",
       "      <th>Country</th>\n",
       "      <th>Language</th>\n",
       "      <th>Runtime</th>\n",
       "    </tr>\n",
       "  </thead>\n",
       "  <tbody>\n",
       "    <tr>\n",
       "      <th>0</th>\n",
       "      <td>肖申克的救赎</td>\n",
       "      <td>1994</td>\n",
       "      <td>9.7</td>\n",
       "      <td>弗兰克·德拉邦特</td>\n",
       "      <td>弗兰克·德拉邦特 / 斯蒂芬·金</td>\n",
       "      <td>蒂姆·罗宾斯 / 摩根·弗里曼 / 鲍勃·冈顿 / 威廉姆·赛德勒 / 克兰西·布朗 / 吉...</td>\n",
       "      <td>剧情/犯罪</td>\n",
       "      <td>美国</td>\n",
       "      <td>英语</td>\n",
       "      <td>142分钟</td>\n",
       "    </tr>\n",
       "    <tr>\n",
       "      <th>1</th>\n",
       "      <td>霸王别姬</td>\n",
       "      <td>1993</td>\n",
       "      <td>9.6</td>\n",
       "      <td>陈凯歌</td>\n",
       "      <td>芦苇 / 李碧华</td>\n",
       "      <td>张国荣 / 张丰毅 / 巩俐 / 葛优 / 英达 / 蒋雯丽 / 吴大维 / 吕齐 / 雷汉...</td>\n",
       "      <td>剧情/爱情/同性</td>\n",
       "      <td>中国大陆 / 中国香港</td>\n",
       "      <td>汉语普通话</td>\n",
       "      <td>171分钟</td>\n",
       "    </tr>\n",
       "    <tr>\n",
       "      <th>2</th>\n",
       "      <td>阿甘正传</td>\n",
       "      <td>1994</td>\n",
       "      <td>9.5</td>\n",
       "      <td>罗伯特·泽米吉斯</td>\n",
       "      <td>艾瑞克·罗斯 / 温斯顿·格鲁姆</td>\n",
       "      <td>汤姆·汉克斯 / 罗宾·怀特 / 加里·西尼斯 / 麦凯尔泰·威廉逊 / 莎莉·菲尔德 / ...</td>\n",
       "      <td>剧情/爱情</td>\n",
       "      <td>美国</td>\n",
       "      <td>英语</td>\n",
       "      <td>142分钟</td>\n",
       "    </tr>\n",
       "  </tbody>\n",
       "</table>\n",
       "</div>"
      ],
      "text/plain": [
       "     Name  Year  Rate Directors           Writers  \\\n",
       "0  肖申克的救赎  1994   9.7  弗兰克·德拉邦特  弗兰克·德拉邦特 / 斯蒂芬·金   \n",
       "1    霸王别姬  1993   9.6       陈凯歌          芦苇 / 李碧华   \n",
       "2    阿甘正传  1994   9.5  罗伯特·泽米吉斯  艾瑞克·罗斯 / 温斯顿·格鲁姆   \n",
       "\n",
       "                                               Stars    Genres       Country  \\\n",
       "0  蒂姆·罗宾斯 / 摩根·弗里曼 / 鲍勃·冈顿 / 威廉姆·赛德勒 / 克兰西·布朗 / 吉...     剧情/犯罪            美国   \n",
       "1  张国荣 / 张丰毅 / 巩俐 / 葛优 / 英达 / 蒋雯丽 / 吴大维 / 吕齐 / 雷汉...  剧情/爱情/同性   中国大陆 / 中国香港   \n",
       "2  汤姆·汉克斯 / 罗宾·怀特 / 加里·西尼斯 / 麦凯尔泰·威廉逊 / 莎莉·菲尔德 / ...     剧情/爱情            美国   \n",
       "\n",
       "  Language Runtime  \n",
       "0       英语   142分钟  \n",
       "1    汉语普通话   171分钟  \n",
       "2       英语   142分钟  "
      ]
     },
     "metadata": {},
     "output_type": "display_data"
    },
    {
     "data": {
      "text/html": [
       "<div>\n",
       "<style scoped>\n",
       "    .dataframe tbody tr th:only-of-type {\n",
       "        vertical-align: middle;\n",
       "    }\n",
       "\n",
       "    .dataframe tbody tr th {\n",
       "        vertical-align: top;\n",
       "    }\n",
       "\n",
       "    .dataframe thead th {\n",
       "        text-align: right;\n",
       "    }\n",
       "</style>\n",
       "<table border=\"1\" class=\"dataframe\">\n",
       "  <thead>\n",
       "    <tr style=\"text-align: right;\">\n",
       "      <th></th>\n",
       "      <th>Name</th>\n",
       "      <th>Year</th>\n",
       "      <th>Rate</th>\n",
       "      <th>Level</th>\n",
       "      <th>Directors</th>\n",
       "      <th>Writers</th>\n",
       "      <th>Stars</th>\n",
       "      <th>Genres</th>\n",
       "      <th>Runtime</th>\n",
       "      <th>Country</th>\n",
       "      <th>Language</th>\n",
       "      <th>Budget</th>\n",
       "      <th>Box_Office_USA</th>\n",
       "      <th>Box_Office_World</th>\n",
       "    </tr>\n",
       "  </thead>\n",
       "  <tbody>\n",
       "    <tr>\n",
       "      <th>0</th>\n",
       "      <td>The Shawshank Redemption</td>\n",
       "      <td>1994</td>\n",
       "      <td>9.3</td>\n",
       "      <td>IIB</td>\n",
       "      <td>Frank Darabont</td>\n",
       "      <td>Stephen King/Frank Darabont</td>\n",
       "      <td>Tim Robbins/Morgan Freeman/Bob Gunton/See full...</td>\n",
       "      <td>Drama</td>\n",
       "      <td>142 min</td>\n",
       "      <td>USA</td>\n",
       "      <td>English</td>\n",
       "      <td>$25,000,000</td>\n",
       "      <td>$28,699,976</td>\n",
       "      <td>$28,817,291</td>\n",
       "    </tr>\n",
       "    <tr>\n",
       "      <th>1</th>\n",
       "      <td>The Godfather</td>\n",
       "      <td>1972</td>\n",
       "      <td>9.2</td>\n",
       "      <td>IIB</td>\n",
       "      <td>Francis Ford Coppola</td>\n",
       "      <td>Mario Puzo/Francis Ford Coppola/1 more credit</td>\n",
       "      <td>Marlon Brando/Al Pacino/James Caan/See full ca...</td>\n",
       "      <td>Crime/Drama</td>\n",
       "      <td>175 min</td>\n",
       "      <td>USA</td>\n",
       "      <td>English/Italian/Latin</td>\n",
       "      <td>$6,000,000</td>\n",
       "      <td>$134,966,411</td>\n",
       "      <td>$246,120,986</td>\n",
       "    </tr>\n",
       "    <tr>\n",
       "      <th>2</th>\n",
       "      <td>The Godfather: Part II</td>\n",
       "      <td>1974</td>\n",
       "      <td>9.0</td>\n",
       "      <td>IIB</td>\n",
       "      <td>Francis Ford Coppola</td>\n",
       "      <td>Francis Ford Coppola/Mario Puzo/1 more credit</td>\n",
       "      <td>Al Pacino/Robert De Niro/Robert Duvall/See ful...</td>\n",
       "      <td>Crime/Drama</td>\n",
       "      <td>202 min</td>\n",
       "      <td>USA</td>\n",
       "      <td>English/Italian/Spanish/Latin/Sicilian</td>\n",
       "      <td>$13,000,000</td>\n",
       "      <td>$47,834,595</td>\n",
       "      <td>$48,035,783</td>\n",
       "    </tr>\n",
       "  </tbody>\n",
       "</table>\n",
       "</div>"
      ],
      "text/plain": [
       "                       Name  Year  Rate Level             Directors  \\\n",
       "0  The Shawshank Redemption  1994   9.3   IIB        Frank Darabont   \n",
       "1             The Godfather  1972   9.2   IIB  Francis Ford Coppola   \n",
       "2    The Godfather: Part II  1974   9.0   IIB  Francis Ford Coppola   \n",
       "\n",
       "                                         Writers  \\\n",
       "0                    Stephen King/Frank Darabont   \n",
       "1  Mario Puzo/Francis Ford Coppola/1 more credit   \n",
       "2  Francis Ford Coppola/Mario Puzo/1 more credit   \n",
       "\n",
       "                                               Stars       Genres  Runtime  \\\n",
       "0  Tim Robbins/Morgan Freeman/Bob Gunton/See full...        Drama  142 min   \n",
       "1  Marlon Brando/Al Pacino/James Caan/See full ca...  Crime/Drama  175 min   \n",
       "2  Al Pacino/Robert De Niro/Robert Duvall/See ful...  Crime/Drama  202 min   \n",
       "\n",
       "  Country                                Language       Budget Box_Office_USA  \\\n",
       "0     USA                                 English  $25,000,000    $28,699,976   \n",
       "1     USA                   English/Italian/Latin   $6,000,000   $134,966,411   \n",
       "2     USA  English/Italian/Spanish/Latin/Sicilian  $13,000,000    $47,834,595   \n",
       "\n",
       "  Box_Office_World  \n",
       "0      $28,817,291  \n",
       "1     $246,120,986  \n",
       "2      $48,035,783  "
      ]
     },
     "metadata": {},
     "output_type": "display_data"
    }
   ],
   "source": [
    "display(douban_df.head(3))\n",
    "display(imdb_df.head(3))"
   ]
  },
  {
   "cell_type": "code",
   "execution_count": 4,
   "metadata": {},
   "outputs": [],
   "source": [
    "import warnings\n",
    "warnings.filterwarnings(\"ignore\")\n",
    "\n",
    "def calc_lang(demo, name=\"imdb\"):\n",
    "    \n",
    "    demo['l_Language'] = demo['Language'].fillna(\"\").map(lambda x: x.replace(' ', '').split(\"/\"))\n",
    "    # del demo['Language']\n",
    "    # display(demo.head(3))\n",
    "    \n",
    "    temp_df = demo['l_Language'].apply(pd.Series)\n",
    "    try: \n",
    "        temp_df = temp_df.rename(columns = lambda x : 'tag_' + str(x+1))\n",
    "        temp_df.fillna(pd.NA,inplace=True)\n",
    "    except TypeError:\n",
    "        pass\n",
    "    temp_df.sample(3)\n",
    "    \n",
    "    tags_df = temp_df.merge(demo[[\"Rate\"]], left_index=True, right_index=True,how=\"left\")\n",
    "    tags_df.sample(3)\n",
    "    \n",
    "    rowtags_df = tags_df.melt(id_vars = ['Rate'], value_name = \"tag\")\n",
    "    rowtags_df.sort_values(\"Rate\").head(3)\n",
    "    \n",
    "    rowtags_df.dropna(inplace=True)\n",
    "    del rowtags_df[\"variable\"]\n",
    "    # display(rowtags_df.head(3))\n",
    "    \n",
    "    count_df = pd.DataFrame(rowtags_df['tag'].value_counts())\n",
    "    count_df['id'] = range(1, len(count_df)+1)\n",
    "    count_df['language'] = count_df.index\n",
    "    count_df.set_index('id', inplace=True)\n",
    "    count_df.columns = [\"count\", \"language\"]\n",
    "#     display(count_df)\n",
    "    top_ten = count_df.head(10)\n",
    "    \n",
    "# This changes Chinese into English\n",
    "    if count_df['language'][1] != \"English\":\n",
    "        name = \"Douban\"\n",
    "        translation = {\"英语\":\"English\", \"日语\":\"Japanese\", \"汉语普通话\":\"Mandarin\", \"法语\":\"French\",\n",
    "                       \"德语\":\"German\", \"粤语\":\"Cantonese\", \"意大利语\":\"Italian\", \"西班牙语\":\"Spanish\",\n",
    "                       \"俄语\":\"Russian\", \"韩语\":\"Korean\"}\n",
    "        top_ten['language'] = top_ten['language'].map(translation)\n",
    "    \n",
    "    print(\"\\nThese are the most common languages of the movies on {}:\\n\".format(name))\n",
    "    display(top_ten.head(10))"
   ]
  },
  {
   "cell_type": "code",
   "execution_count": 5,
   "metadata": {},
   "outputs": [
    {
     "name": "stdout",
     "output_type": "stream",
     "text": [
      "\n",
      "These are the most common languages of the movies on Douban:\n",
      "\n"
     ]
    },
    {
     "data": {
      "text/html": [
       "<div>\n",
       "<style scoped>\n",
       "    .dataframe tbody tr th:only-of-type {\n",
       "        vertical-align: middle;\n",
       "    }\n",
       "\n",
       "    .dataframe tbody tr th {\n",
       "        vertical-align: top;\n",
       "    }\n",
       "\n",
       "    .dataframe thead th {\n",
       "        text-align: right;\n",
       "    }\n",
       "</style>\n",
       "<table border=\"1\" class=\"dataframe\">\n",
       "  <thead>\n",
       "    <tr style=\"text-align: right;\">\n",
       "      <th></th>\n",
       "      <th>count</th>\n",
       "      <th>language</th>\n",
       "    </tr>\n",
       "    <tr>\n",
       "      <th>id</th>\n",
       "      <th></th>\n",
       "      <th></th>\n",
       "    </tr>\n",
       "  </thead>\n",
       "  <tbody>\n",
       "    <tr>\n",
       "      <th>1</th>\n",
       "      <td>164</td>\n",
       "      <td>English</td>\n",
       "    </tr>\n",
       "    <tr>\n",
       "      <th>2</th>\n",
       "      <td>46</td>\n",
       "      <td>Japanese</td>\n",
       "    </tr>\n",
       "    <tr>\n",
       "      <th>3</th>\n",
       "      <td>42</td>\n",
       "      <td>Mandarin</td>\n",
       "    </tr>\n",
       "    <tr>\n",
       "      <th>4</th>\n",
       "      <td>39</td>\n",
       "      <td>French</td>\n",
       "    </tr>\n",
       "    <tr>\n",
       "      <th>5</th>\n",
       "      <td>27</td>\n",
       "      <td>German</td>\n",
       "    </tr>\n",
       "    <tr>\n",
       "      <th>6</th>\n",
       "      <td>25</td>\n",
       "      <td>Cantonese</td>\n",
       "    </tr>\n",
       "    <tr>\n",
       "      <th>7</th>\n",
       "      <td>19</td>\n",
       "      <td>Italian</td>\n",
       "    </tr>\n",
       "    <tr>\n",
       "      <th>8</th>\n",
       "      <td>15</td>\n",
       "      <td>Spanish</td>\n",
       "    </tr>\n",
       "    <tr>\n",
       "      <th>9</th>\n",
       "      <td>12</td>\n",
       "      <td>Russian</td>\n",
       "    </tr>\n",
       "    <tr>\n",
       "      <th>10</th>\n",
       "      <td>11</td>\n",
       "      <td>Korean</td>\n",
       "    </tr>\n",
       "  </tbody>\n",
       "</table>\n",
       "</div>"
      ],
      "text/plain": [
       "    count   language\n",
       "id                  \n",
       "1     164    English\n",
       "2      46   Japanese\n",
       "3      42   Mandarin\n",
       "4      39     French\n",
       "5      27     German\n",
       "6      25  Cantonese\n",
       "7      19    Italian\n",
       "8      15    Spanish\n",
       "9      12    Russian\n",
       "10     11     Korean"
      ]
     },
     "metadata": {},
     "output_type": "display_data"
    },
    {
     "name": "stdout",
     "output_type": "stream",
     "text": [
      "\n",
      "These are the most common languages of the movies on imdb:\n",
      "\n"
     ]
    },
    {
     "data": {
      "text/html": [
       "<div>\n",
       "<style scoped>\n",
       "    .dataframe tbody tr th:only-of-type {\n",
       "        vertical-align: middle;\n",
       "    }\n",
       "\n",
       "    .dataframe tbody tr th {\n",
       "        vertical-align: top;\n",
       "    }\n",
       "\n",
       "    .dataframe thead th {\n",
       "        text-align: right;\n",
       "    }\n",
       "</style>\n",
       "<table border=\"1\" class=\"dataframe\">\n",
       "  <thead>\n",
       "    <tr style=\"text-align: right;\">\n",
       "      <th></th>\n",
       "      <th>count</th>\n",
       "      <th>language</th>\n",
       "    </tr>\n",
       "    <tr>\n",
       "      <th>id</th>\n",
       "      <th></th>\n",
       "      <th></th>\n",
       "    </tr>\n",
       "  </thead>\n",
       "  <tbody>\n",
       "    <tr>\n",
       "      <th>1</th>\n",
       "      <td>200</td>\n",
       "      <td>English</td>\n",
       "    </tr>\n",
       "    <tr>\n",
       "      <th>2</th>\n",
       "      <td>43</td>\n",
       "      <td>French</td>\n",
       "    </tr>\n",
       "    <tr>\n",
       "      <th>3</th>\n",
       "      <td>36</td>\n",
       "      <td>German</td>\n",
       "    </tr>\n",
       "    <tr>\n",
       "      <th>4</th>\n",
       "      <td>30</td>\n",
       "      <td>Spanish</td>\n",
       "    </tr>\n",
       "    <tr>\n",
       "      <th>5</th>\n",
       "      <td>26</td>\n",
       "      <td>Japanese</td>\n",
       "    </tr>\n",
       "    <tr>\n",
       "      <th>6</th>\n",
       "      <td>26</td>\n",
       "      <td>Italian</td>\n",
       "    </tr>\n",
       "    <tr>\n",
       "      <th>7</th>\n",
       "      <td>15</td>\n",
       "      <td>Russian</td>\n",
       "    </tr>\n",
       "    <tr>\n",
       "      <th>8</th>\n",
       "      <td>13</td>\n",
       "      <td>Latin</td>\n",
       "    </tr>\n",
       "    <tr>\n",
       "      <th>9</th>\n",
       "      <td>8</td>\n",
       "      <td>Arabic</td>\n",
       "    </tr>\n",
       "    <tr>\n",
       "      <th>10</th>\n",
       "      <td>8</td>\n",
       "      <td>Hindi</td>\n",
       "    </tr>\n",
       "  </tbody>\n",
       "</table>\n",
       "</div>"
      ],
      "text/plain": [
       "    count  language\n",
       "id                 \n",
       "1     200   English\n",
       "2      43    French\n",
       "3      36    German\n",
       "4      30   Spanish\n",
       "5      26  Japanese\n",
       "6      26   Italian\n",
       "7      15   Russian\n",
       "8      13     Latin\n",
       "9       8    Arabic\n",
       "10      8     Hindi"
      ]
     },
     "metadata": {},
     "output_type": "display_data"
    }
   ],
   "source": [
    "calc_lang(douban_df)\n",
    "calc_lang(imdb_df)"
   ]
  },
  {
   "cell_type": "markdown",
   "metadata": {},
   "source": [
    "As is shown above, English, Japanese, French, German, Italian, Spanish and Russian are in both dataframes. This indicates that both users on Douban and imdb like movies that use those languages. Meanwhile,  mandarin, cantonese and Korean only appear in the first dataframe of Douban while Latin, Hindi and Arabic only appears in the latter of imdb. This is because users of Douban are mostly Chinese and watched more movies in mandarin and cantonese, and vice versa."
   ]
  },
  {
   "cell_type": "markdown",
   "metadata": {},
   "source": [
    "## Runtime"
   ]
  },
  {
   "cell_type": "markdown",
   "metadata": {},
   "source": [
    "Then we are going to see whether runtime affects users' ratings towards the films."
   ]
  },
  {
   "cell_type": "code",
   "execution_count": 6,
   "metadata": {},
   "outputs": [],
   "source": [
    "import re\n",
    "import numpy as np\n",
    "import seaborn as sns\n",
    "\n",
    "pattern = re.compile(r'\\d+')\n",
    "\n",
    "def parse_time(time):\n",
    "    if time is not np.NaN:\n",
    "        time = re.findall(pattern, time)\n",
    "        return time[0]\n",
    "    else:\n",
    "        return np.NaN\n",
    "\n",
    "def calc_time(demo):\n",
    "    demo_df = demo[['Rate', 'Runtime']]\n",
    "    demo_df.dropna(inplace=True)\n",
    "    demo_df['Time(min)'] = demo_df['Runtime'].map(parse_time)\n",
    "\n",
    "    demo_df['Rate_p'] = demo_df['Rate'].map(lambda x: float(x) // 0.5 / 2)\n",
    "    \n",
    "    # display(demo_df.head(3))\n",
    "    \n",
    "    l = [9.5, 9, 8.5, 8]\n",
    "    ave = []\n",
    "    \n",
    "    for i in l:\n",
    "        rate_m = demo_df['Rate_p'] == i\n",
    "        demo_df_rated = demo_df[rate_m]\n",
    "        cnt = 0\n",
    "        tt = 0\n",
    "        for t in demo_df_rated['Time(min)']:\n",
    "            tt += int(t)\n",
    "            cnt += 1\n",
    "        if cnt != 0:\n",
    "            a = tt / cnt\n",
    "            ave.append([i, a])\n",
    "        else:\n",
    "            ave.append([i, np.NaN])\n",
    "        \n",
    "    ave_df = pd.DataFrame(ave)\n",
    "    ave_df.columns = [\"RateGroup\", \"average_time\"]\n",
    "    display(ave_df)"
   ]
  },
  {
   "cell_type": "code",
   "execution_count": 7,
   "metadata": {},
   "outputs": [],
   "source": [
    "def disp_joint(demo, name):\n",
    "    demo_df = demo[['Rate', 'Runtime']]\n",
    "    demo_df.dropna(inplace=True)\n",
    "    demo_df['Time(min)'] = demo_df['Runtime'].map(parse_time)\n",
    "\n",
    "    demo_df['Rate_p'] = demo_df['Rate'].map(lambda x: float(x) // 0.5 / 2)\n",
    "    \n",
    "    dist1 = [int(i) for i in demo_df[\"Time(min)\"].values]\n",
    "    dist2 = [i for i in demo_df[\"Rate\"].values]\n",
    "    print('\\t\\t\\t'+name)\n",
    "    ax = sns.jointplot(x=dist2, y=dist1, kind='hex')\n",
    "    ax.set_axis_labels('Rate', 'Runtime', fontsize=10)\n",
    "    print()\n",
    "    \n",
    "def disp_box(demo, name):\n",
    "    demo_df = demo[['Rate', 'Runtime']]\n",
    "    demo_df.dropna(inplace=True)\n",
    "    demo_df['Time(min)'] = demo_df['Runtime'].map(parse_time)\n",
    "\n",
    "    demo_df['Rate_p'] = demo_df['Rate'].map(lambda x: float(x) // 0.5 / 2)\n",
    "    \n",
    "    dist1 = [int(i) for i in demo_df[\"Time(min)\"].values]\n",
    "    dist3 = [i for i in demo_df[\"Rate_p\"].values]\n",
    "    ax = sns.boxplot(x=dist3,y=dist1)\n",
    "    ax.set(xlabel='Rate(Group)', ylabel='Runtime', title=name+\"\\n\")\n",
    "    print()"
   ]
  },
  {
   "cell_type": "code",
   "execution_count": 8,
   "metadata": {},
   "outputs": [
    {
     "data": {
      "text/html": [
       "<div>\n",
       "<style scoped>\n",
       "    .dataframe tbody tr th:only-of-type {\n",
       "        vertical-align: middle;\n",
       "    }\n",
       "\n",
       "    .dataframe tbody tr th {\n",
       "        vertical-align: top;\n",
       "    }\n",
       "\n",
       "    .dataframe thead th {\n",
       "        text-align: right;\n",
       "    }\n",
       "</style>\n",
       "<table border=\"1\" class=\"dataframe\">\n",
       "  <thead>\n",
       "    <tr style=\"text-align: right;\">\n",
       "      <th></th>\n",
       "      <th>RateGroup</th>\n",
       "      <th>average_time</th>\n",
       "    </tr>\n",
       "  </thead>\n",
       "  <tbody>\n",
       "    <tr>\n",
       "      <th>0</th>\n",
       "      <td>9.5</td>\n",
       "      <td>139.000000</td>\n",
       "    </tr>\n",
       "    <tr>\n",
       "      <th>1</th>\n",
       "      <td>9.0</td>\n",
       "      <td>128.776471</td>\n",
       "    </tr>\n",
       "    <tr>\n",
       "      <th>2</th>\n",
       "      <td>8.5</td>\n",
       "      <td>118.525974</td>\n",
       "    </tr>\n",
       "    <tr>\n",
       "      <th>3</th>\n",
       "      <td>8.0</td>\n",
       "      <td>123.500000</td>\n",
       "    </tr>\n",
       "  </tbody>\n",
       "</table>\n",
       "</div>"
      ],
      "text/plain": [
       "   RateGroup  average_time\n",
       "0        9.5    139.000000\n",
       "1        9.0    128.776471\n",
       "2        8.5    118.525974\n",
       "3        8.0    123.500000"
      ]
     },
     "metadata": {},
     "output_type": "display_data"
    },
    {
     "name": "stdout",
     "output_type": "stream",
     "text": [
      "\t\t\tDouban\n",
      "\n"
     ]
    },
    {
     "data": {
      "image/png": "[encoded data removed]",
      "text/plain": [
       "<Figure size 432x432 with 3 Axes>"
      ]
     },
     "metadata": {
      "needs_background": "light"
     },
     "output_type": "display_data"
    }
   ],
   "source": [
    "calc_time(douban_df)\n",
    "\n",
    "disp_joint(douban_df, \"Douban\")"
   ]
  },
  {
   "cell_type": "code",
   "execution_count": 9,
   "metadata": {},
   "outputs": [
    {
     "name": "stdout",
     "output_type": "stream",
     "text": [
      "\n"
     ]
    },
    {
     "data": {
      "image/png": "[encoded data removed]",
      "text/plain": [
       "<Figure size 432x288 with 1 Axes>"
      ]
     },
     "metadata": {
      "needs_background": "light"
     },
     "output_type": "display_data"
    }
   ],
   "source": [
    "disp_box(douban_df, \"Douban\")"
   ]
  },
  {
   "cell_type": "code",
   "execution_count": 10,
   "metadata": {},
   "outputs": [
    {
     "data": {
      "text/html": [
       "<div>\n",
       "<style scoped>\n",
       "    .dataframe tbody tr th:only-of-type {\n",
       "        vertical-align: middle;\n",
       "    }\n",
       "\n",
       "    .dataframe tbody tr th {\n",
       "        vertical-align: top;\n",
       "    }\n",
       "\n",
       "    .dataframe thead th {\n",
       "        text-align: right;\n",
       "    }\n",
       "</style>\n",
       "<table border=\"1\" class=\"dataframe\">\n",
       "  <thead>\n",
       "    <tr style=\"text-align: right;\">\n",
       "      <th></th>\n",
       "      <th>RateGroup</th>\n",
       "      <th>average_time</th>\n",
       "    </tr>\n",
       "  </thead>\n",
       "  <tbody>\n",
       "    <tr>\n",
       "      <th>0</th>\n",
       "      <td>9.5</td>\n",
       "      <td>NaN</td>\n",
       "    </tr>\n",
       "    <tr>\n",
       "      <th>1</th>\n",
       "      <td>9.0</td>\n",
       "      <td>153.400000</td>\n",
       "    </tr>\n",
       "    <tr>\n",
       "      <th>2</th>\n",
       "      <td>8.5</td>\n",
       "      <td>138.425532</td>\n",
       "    </tr>\n",
       "    <tr>\n",
       "      <th>3</th>\n",
       "      <td>8.0</td>\n",
       "      <td>127.335025</td>\n",
       "    </tr>\n",
       "  </tbody>\n",
       "</table>\n",
       "</div>"
      ],
      "text/plain": [
       "   RateGroup  average_time\n",
       "0        9.5           NaN\n",
       "1        9.0    153.400000\n",
       "2        8.5    138.425532\n",
       "3        8.0    127.335025"
      ]
     },
     "metadata": {},
     "output_type": "display_data"
    },
    {
     "name": "stdout",
     "output_type": "stream",
     "text": [
      "\t\t\timdb\n",
      "\n"
     ]
    },
    {
     "data": {
      "image/png": "[encoded data removed]",
      "text/plain": [
       "<Figure size 432x432 with 3 Axes>"
      ]
     },
     "metadata": {
      "needs_background": "light"
     },
     "output_type": "display_data"
    }
   ],
   "source": [
    "calc_time(imdb_df)\n",
    "disp_joint(imdb_df, \"imdb\")"
   ]
  },
  {
   "cell_type": "code",
   "execution_count": 11,
   "metadata": {},
   "outputs": [
    {
     "name": "stdout",
     "output_type": "stream",
     "text": [
      "\n"
     ]
    },
    {
     "data": {
      "image/png": "[encoded data removed]",
      "text/plain": [
       "<Figure size 432x288 with 1 Axes>"
      ]
     },
     "metadata": {
      "needs_background": "light"
     },
     "output_type": "display_data"
    }
   ],
   "source": [
    "disp_box(imdb_df, \"imdb\")"
   ]
  },
  {
   "cell_type": "markdown",
   "metadata": {},
   "source": [
    "In the dataframes above, the value in the RateGroup column means x or above. For example, 9.5 represents ratings from 9.5 and above, while 9.0 represents ratings from 9.0(inclusive) up to 9.5(exclusive).\n",
    "\n",
    "We may first get a overall view about the distribution of ratings and runtime of the top 250 movies on each website from the joint-plots. Generally speaking, the scores are lower on imdb than that on Douban, while the range of both runtime and ratings are wider on imdb.\n",
    "\n",
    "In the box-plots and the dataframes above, we are able to see that the longer the runtime is, the higher average score it may get on both websites. There are no films on the imdb website that have rates over 9.5. However, we are still able to see that the films that have the highest ratings also have the longest runtime in either dateframe. This might indicates that users on both websites prefer longer films to shorter ones. However, it may also be true that the longer the film is, the better they are in quality.\n",
    "\n",
    "At the meantime, we can find out from the box-plots that the distribution of scores are more dispersive when the runtime gets longer on Douban, but on imdb, the range of distribution remains generally unchanged."
   ]
  },
  {
   "cell_type": "code",
   "execution_count": null,
   "metadata": {},
   "outputs": [],
   "source": []
  }
 ],
 "metadata": {
  "kernelspec": {
   "display_name": "Python 3",
   "language": "python",
   "name": "python3"
  },
  "language_info": {
   "codemirror_mode": {
    "name": "ipython",
    "version": 3
   },
   "file_extension": ".py",
   "mimetype": "text/x-python",
   "name": "python",
   "nbconvert_exporter": "python",
   "pygments_lexer": "ipython3",
   "version": "3.8.5"
  }
 },
 "nbformat": 4,
 "nbformat_minor": 4
}
